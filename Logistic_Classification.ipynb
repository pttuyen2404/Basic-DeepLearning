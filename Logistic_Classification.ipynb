{
  "nbformat": 4,
  "nbformat_minor": 0,
  "metadata": {
    "colab": {
      "provenance": []
    },
    "kernelspec": {
      "name": "python3",
      "display_name": "Python 3"
    },
    "language_info": {
      "name": "python"
    }
  },
  "cells": [
    {
      "cell_type": "code",
      "execution_count": 18,
      "metadata": {
        "id": "3jyMRpjhL74w"
      },
      "outputs": [],
      "source": [
        "import matplotlib.pyplot as plt\n",
        "import numpy as np\n",
        "import pandas as pd\n",
        "from sklearn.preprocessing import MinMaxScaler\n",
        "from sklearn.model_selection import train_test_split\n",
        "from tqdm import tqdm"
      ]
    },
    {
      "cell_type": "code",
      "source": [
        "df = pd.read_csv('/content/iris_Petal.csv')\n",
        "data = df.values\n",
        "X = data[:,:-1]\n",
        "y = data[:,-1].reshape(-1,1)\n",
        "X = np.hstack((np.ones((X.shape[0],1)),X))\n",
        "X_train,X_test,y_train,y_test = train_test_split(X,y,test_size=0.1,random_state = 42)"
      ],
      "metadata": {
        "id": "DtaA0cqsVP0y"
      },
      "execution_count": 43,
      "outputs": []
    },
    {
      "cell_type": "code",
      "source": [
        "def predict(X,w):\n",
        "  y = np.dot(X,w)\n",
        "  return sigmoid(y)\n",
        "\n",
        "def sigmoid(x):\n",
        "  return 1/(1+np.exp(-x))\n",
        "\n",
        "def f_loss(y_pred,y):\n",
        "  return np.sum(-(y*np.log(y_pred) + (1-y)*np.log(1-y_pred)))\n",
        "\n",
        "def derivative(X,y_pred,y):\n",
        "  return np.dot(X.T,(y_pred - y))\n",
        "\n",
        "def accuracy(y_pred,y):\n",
        "  N = 0\n",
        "  for i,j in zip(y_pred,y):\n",
        "    if i == j:\n",
        "      N+=1\n",
        "  return N/y.shape[0]"
      ],
      "metadata": {
        "id": "IeZVvNT4XDwL"
      },
      "execution_count": 44,
      "outputs": []
    },
    {
      "cell_type": "code",
      "source": [
        "w = np.array([[0.1]*X.shape[1]]).reshape(-1,1)\n",
        "epochs = 10000\n",
        "lr = 0.001\n",
        "losses = []\n",
        "for _ in tqdm(range(epochs)):\n",
        "  y_pred = predict(X_train,w)\n",
        "\n",
        "  loss = f_loss(y_pred,y_train)\n",
        "\n",
        "  losses.append(loss)\n",
        "  w = w - lr*derivative(X_train,y_pred,y_train)\n"
      ],
      "metadata": {
        "colab": {
          "base_uri": "https://localhost:8080/"
        },
        "id": "k8gVN4BWY6lq",
        "outputId": "b5c50099-27ca-4b35-c997-aee1f2044d5c"
      },
      "execution_count": 45,
      "outputs": [
        {
          "output_type": "stream",
          "name": "stderr",
          "text": [
            "100%|██████████| 10000/10000 [00:00<00:00, 32143.88it/s]\n"
          ]
        }
      ]
    },
    {
      "cell_type": "code",
      "source": [
        "plt.plot(range(epochs),losses)\n",
        "plt.xlabel(\"epoch\")\n",
        "plt.ylabel(\"loss\")\n",
        "plt.show()"
      ],
      "metadata": {
        "colab": {
          "base_uri": "https://localhost:8080/",
          "height": 449
        },
        "id": "nmZ4EClga4Kv",
        "outputId": "62f66381-2e13-4b13-c539-7b39cf4711a9"
      },
      "execution_count": 46,
      "outputs": [
        {
          "output_type": "display_data",
          "data": {
            "text/plain": [
              "<Figure size 640x480 with 1 Axes>"
            ],
            "image/png": "[encoded data removed]"
          },
          "metadata": {}
        }
      ]
    },
    {
      "cell_type": "code",
      "source": [
        "y_pred1 = predict(X_train,w)\n",
        "y_pred1 = np.round(y_pred1).astype(int)\n",
        "print(accuracy(y_pred1,y_train))"
      ],
      "metadata": {
        "colab": {
          "base_uri": "https://localhost:8080/"
        },
        "id": "wRnSttifbRfb",
        "outputId": "04bdaf3c-7869-45a9-baed-1ba10aa7691d"
      },
      "execution_count": 47,
      "outputs": [
        {
          "output_type": "stream",
          "name": "stdout",
          "text": [
            "1.0\n"
          ]
        }
      ]
    },
    {
      "cell_type": "code",
      "source": [
        "y_pred2 = predict(X_test,w)\n",
        "y_pred2 = np.round(y_pred2).astype(int)\n",
        "print(accuracy(y_pred2,y_test))"
      ],
      "metadata": {
        "colab": {
          "base_uri": "https://localhost:8080/"
        },
        "id": "mJWkjUXHcTZ2",
        "outputId": "928d812d-7239-4460-e6d4-b2c8a594762f"
      },
      "execution_count": 48,
      "outputs": [
        {
          "output_type": "stream",
          "name": "stdout",
          "text": [
            "1.0\n"
          ]
        }
      ]
    }
  ]
}